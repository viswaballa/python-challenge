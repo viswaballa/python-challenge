{
 "cells": [
  {
   "cell_type": "code",
   "execution_count": null,
   "id": "d96e697a-df36-410c-8f2d-ae7aa20855e8",
   "metadata": {},
   "outputs": [],
   "source": [
    "#Import data\n",
    "import os\n",
    "import csv \n",
    "from pathlib import Path\n",
    "\n",
    "print(os.getcwd())  "
   ]
  },
  {
   "cell_type": "code",
   "execution_count": null,
   "id": "d4b1163c-36d7-428e-bdff-5e0fc392fc04",
   "metadata": {},
   "outputs": [],
   "source": [
    "# Set the path for the file \n",
    "input_file = Path(\"python-challenge/PyBank/budget_data.csv\")\n",
    "output_file = Path('budget_analysis.txt')\n",
    "\n",
    "with open(\"python-challenge/PyBank/budget_data.csv\", \"r\") as financial_data:\n",
    "    csvreader = csv.reader(financial_data)\n",
    "    csv_header = next(csvreader)\n",
    "     "
   ]
  },
  {
   "cell_type": "code",
   "execution_count": 17,
   "id": "5b4ba3c6-6ae6-4682-85fa-a6fe7153689c",
   "metadata": {},
   "outputs": [],
   "source": [
    "\n",
    "# Declare the variables \n",
    "total_months = 0\n",
    "month_change = []\n",
    "average_change = []\n",
    "profit_increase = [\"\",0]\n",
    "profit_decrease = [\"\",999999999]\n",
    "total_average = 0\n",
    "net_revenue = 0\n",
    "prev_net = 0\n"
   ]
  },
  {
   "cell_type": "code",
   "execution_count": 29,
   "id": "2a89f215-2eeb-4155-b878-1edfe9f87bf4",
   "metadata": {},
   "outputs": [],
   "source": [
    " \n",
    "# calculate totals  \n",
    "for row in csvreader: \n",
    "    \n",
    "    # calculate total months \n",
    "    total_months += 1\n",
    "    \n",
    "    # Calculate net total profit/loss\n",
    "    net_revenue += int(row[1])\n",
    "    change = int(row[1]) - prev_net \n",
    "    if prev_net == 0: \n",
    "        prev_net = int(row[1])\n",
    "    else: \n",
    "        months_change.append(change)\n",
    "    \n",
    "    # Calculate the greatest increase and greatest decrease \n",
    "    if int(change) > int(profit_increase[1]) and total_months > 1: \n",
    "        profit_increase = row\n",
    "    \n",
    "    if int(change) < int(profit_decrease[1]) and toal_months > 1: \n",
    "        profit_decrease = row \n",
    "\n",
    "        \n",
    "\n",
    "# Calculate the average change \n",
    "average_change = sum(months_change) / len(months_change)\n",
    "\n",
    "print(total_months)\n",
    "print(months_change)\n",
    "print(average_change)"
   ]
  },
  {
   "cell_type": "code",
   "execution_count": 29,
   "id": "a1d5ef0d-664e-4099-936a-cbfb2ffa0721",
   "metadata": {},
   "outputs": [],
   "source": [
    "# Resulting analysis\n",
    "\n",
    "result = (f\"\\nFinancial Analysis\\n\"\n",
    "          f\"----------------------------------\\n\"\n",
    "          f\"Total Months: {total_months}\\n\"\n",
    "          f\"Total: ${net_revenue}\\n\"\n",
    "          f\"Average Change: ${average_change}\\n\"\n",
    "          f\"Greatest Increase in Profits: {profit_increase[0]} ${profit_increase[1]}\\n\"\n",
    "          f\"Greatest Decrease in Profits: {profit_decrease[0]} ${profit_decrease[1]}\\n\")\n",
    "\n",
    "print(result)\n",
    "\n",
    "    "
   ]
  },
  {
   "cell_type": "code",
   "execution_count": 22,
   "id": "23e1e71d-ae27-4d23-877b-b7b874095ab0",
   "metadata": {},
   "outputs": [],
   "source": [
    "# Print the analysis and exort the text file \n",
    "with open(\"budget_analysis\", \"w\") as txt_file: \n",
    "    txt_file.write(result)\n",
    "    \n",
    "    \n",
    "\n",
    "    \n",
    "  "
   ]
  },
  {
   "cell_type": "code",
   "execution_count": null,
   "id": "c0d66f03-4716-4b88-a5c8-0ac105e8d03a",
   "metadata": {},
   "outputs": [],
   "source": [
    "# References \n",
    "Tutor assistance \n",
    "Insructor assistance\n",
    "Class assignments assistance "
   ]
  }
 ],
 "metadata": {
  "kernelspec": {
   "display_name": "Python 3 (ipykernel)",
   "language": "python",
   "name": "python3"
  },
  "language_info": {
   "codemirror_mode": {
    "name": "ipython",
    "version": 3
   },
   "file_extension": ".py",
   "mimetype": "text/x-python",
   "name": "python",
   "nbconvert_exporter": "python",
   "pygments_lexer": "ipython3",
   "version": "3.9.13"
  }
 },
 "nbformat": 4,
 "nbformat_minor": 5
}
