{
 "cells": [
  {
   "cell_type": "code",
   "execution_count": 7,
   "id": "5a93b586-7821-471d-a9b5-cf52693db47d",
   "metadata": {},
   "outputs": [
    {
     "name": "stdout",
     "output_type": "stream",
     "text": [
      "C:\\Users\\asus\\Downloads\n"
     ]
    }
   ],
   "source": [
    "#Import data\n",
    "import os\n",
    "import csv \n",
    "from pathlib import Path\n",
    "\n",
    "print(os.getcwd())  "
   ]
  },
  {
   "cell_type": "code",
   "execution_count": 5,
   "id": "973afe1e-91f2-4d24-a2bd-a94d16de8a8f",
   "metadata": {},
   "outputs": [
    {
     "ename": "FileNotFoundError",
     "evalue": "[Errno 2] No such file or directory: 'budget_data.csv'",
     "output_type": "error",
     "traceback": [
      "\u001b[1;31m---------------------------------------------------------------------------\u001b[0m",
      "\u001b[1;31mFileNotFoundError\u001b[0m                         Traceback (most recent call last)",
      "\u001b[1;32m~\\AppData\\Local\\Temp\\ipykernel_29616\\1940194634.py\u001b[0m in \u001b[0;36m<module>\u001b[1;34m\u001b[0m\n\u001b[0;32m      3\u001b[0m \u001b[0moutput_file\u001b[0m \u001b[1;33m=\u001b[0m \u001b[0mPath\u001b[0m\u001b[1;33m(\u001b[0m\u001b[1;34m'budget_analysis.txt'\u001b[0m\u001b[1;33m)\u001b[0m\u001b[1;33m\u001b[0m\u001b[1;33m\u001b[0m\u001b[0m\n\u001b[0;32m      4\u001b[0m \u001b[1;33m\u001b[0m\u001b[0m\n\u001b[1;32m----> 5\u001b[1;33m \u001b[1;32mwith\u001b[0m \u001b[0mopen\u001b[0m\u001b[1;33m(\u001b[0m\u001b[0minput_file\u001b[0m\u001b[1;33m)\u001b[0m \u001b[1;32mas\u001b[0m \u001b[0mfinancial_data\u001b[0m\u001b[1;33m:\u001b[0m\u001b[1;33m\u001b[0m\u001b[1;33m\u001b[0m\u001b[0m\n\u001b[0m\u001b[0;32m      6\u001b[0m     \u001b[0mcsvreader\u001b[0m \u001b[1;33m=\u001b[0m \u001b[0mcsv\u001b[0m\u001b[1;33m.\u001b[0m\u001b[0mreader\u001b[0m\u001b[1;33m(\u001b[0m\u001b[0mfinancial_data\u001b[0m\u001b[1;33m)\u001b[0m\u001b[1;33m\u001b[0m\u001b[1;33m\u001b[0m\u001b[0m\n\u001b[0;32m      7\u001b[0m     \u001b[0mheader\u001b[0m \u001b[1;33m=\u001b[0m \u001b[0mnext\u001b[0m\u001b[1;33m(\u001b[0m\u001b[0mreader\u001b[0m\u001b[1;33m)\u001b[0m\u001b[1;33m\u001b[0m\u001b[1;33m\u001b[0m\u001b[0m\n",
      "\u001b[1;31mFileNotFoundError\u001b[0m: [Errno 2] No such file or directory: 'budget_data.csv'"
     ]
    }
   ],
   "source": [
    "# Set the path for the file \n",
    "input_file = Path(\"budget_data.csv\")\n",
    "output_file = Path('budget_analysis.txt')\n",
    "\n",
    "with open(input_file) as financial_data:\n",
    "    csvreader = csv.reader(financial_data)\n",
    "    header = next(reader)\n",
    "     "
   ]
  },
  {
   "cell_type": "code",
   "execution_count": 3,
   "id": "5b4ba3c6-6ae6-4682-85fa-a6fe7153689c",
   "metadata": {},
   "outputs": [],
   "source": [
    "  \n",
    "\n",
    "# Declare the variables \n",
    "total_months = 0\n",
    "month_change = []\n",
    "average_change = []\n",
    "profit_increase = [\"\",0]\n",
    "profit_decrease = [\"\",999999999]\n",
    "total_average = 0\n",
    "net_revenue = 0\n",
    "prev_net = 0\n",
    "\n",
    "first_row = next(reader)\n",
    "    month = month + 1\n",
    "    revenue = revenue + int(first_row[1])\n",
    "    prev_net = int(first_row[1])"
   ]
  },
  {
   "cell_type": "code",
   "execution_count": null,
   "id": "26260632-5f93-4dbd-9d23-ae94a4be02f6",
   "metadata": {},
   "outputs": [],
   "source": [
    "   \n",
    "# calculate totals  \n",
    "for row in csvreader: \n",
    "    \n",
    "    # calculate total months \n",
    "    total_months += 1\n",
    "    \n",
    "    # Calculate net total profit/loss\n",
    "    net_revenue += int(row[1])\n",
    "    change = int(row[1]) - prev_net \n",
    "    if prev_net == 0: \n",
    "        prev_net = int(row[1])\n",
    "    else: \n",
    "        months_change.append(change)\n",
    "    \n",
    "    # Calculate the greatest increase and greatest decrease \n",
    "    if int(change) > int(profit_increase[1]) and total_months > 1: \n",
    "        profit_increase = row\n",
    "    \n",
    "    if int(change) < int(profit_decrease[1]) and toal_months > 1: \n",
    "        profit_decrease = row \n",
    "\n",
    "        \n",
    "\n",
    "# Calculate the average change \n",
    "average_change = sum(months_change) / len(months_change)\n",
    "\n",
    "print(total_months)\n",
    "print(months_change)\n",
    "print(average_change)"
   ]
  },
  {
   "cell_type": "code",
   "execution_count": null,
   "id": "ddbda59b-c70f-4461-b1a5-5238c772be0e",
   "metadata": {},
   "outputs": [],
   "source": [
    "# Resulting analysis\n",
    "\n",
    "result = (f\"\\nFinancial Analysis\\n\"\n",
    "          f\"----------------------------------\"\n",
    "          f\"Total Months: {total_months}\\n\"\n",
    "          f\"Total: ${net_revenue}\\n\"\n",
    "          f\"Average Change: ${average_change}\\n\"\n",
    "          f\"Greatest Increase in Profits: {profit_increase[0]} ${profit_increase[1]}\\n\"\n",
    "          f\"Greatest Decrease in Profits: {profit_decrease[0]} ${profit_decrease[1]}\\n\")\n",
    "\n",
    "print(result)\n",
    "\n",
    "    "
   ]
  },
  {
   "cell_type": "code",
   "execution_count": null,
   "id": "23e1e71d-ae27-4d23-877b-b7b874095ab0",
   "metadata": {},
   "outputs": [],
   "source": [
    "# Print the analysis and exort the text file \n",
    "with open(\"budget_analysis\", \"w\") as txt_file: \n",
    "    txt_file.write(output)\n",
    "    \n",
    "    \n",
    "\n",
    "    \n",
    "  "
   ]
  },
  {
   "cell_type": "code",
   "execution_count": null,
   "id": "c0d66f03-4716-4b88-a5c8-0ac105e8d03a",
   "metadata": {},
   "outputs": [],
   "source": [
    "# References \n",
    "Tutor assistance \n",
    "Insructor assistance\n",
    "Class assignments assistance "
   ]
  }
 ],
 "metadata": {
  "kernelspec": {
   "display_name": "Python 3 (ipykernel)",
   "language": "python",
   "name": "python3"
  },
  "language_info": {
   "codemirror_mode": {
    "name": "ipython",
    "version": 3
   },
   "file_extension": ".py",
   "mimetype": "text/x-python",
   "name": "python",
   "nbconvert_exporter": "python",
   "pygments_lexer": "ipython3",
   "version": "3.9.13"
  }
 },
 "nbformat": 4,
 "nbformat_minor": 5
}
